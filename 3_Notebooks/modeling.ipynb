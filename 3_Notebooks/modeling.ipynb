# modeling.ipynb

import pandas as pd
from sklearn.ensemble import IsolationForest
from sklearn.svm import OneClassSVM
import joblib

# Load preprocessed data
df = pd.read_csv("preprocessed_creditcard.csv")
X = df.drop(columns='Class')

# Train Isolation Forest
iso_model = IsolationForest(n_estimators=100, contamination=0.01, random_state=42)
iso_model.fit(X)
joblib.dump(iso_model, "model_isolation_forest.pkl")

# Train One-Class SVM
svm_model = OneClassSVM(kernel='rbf', nu=0.01, gamma='scale')
svm_model.fit(X)
joblib.dump(svm_model, "model_oneclass_svm.pkl")

print("Models trained and saved.")
