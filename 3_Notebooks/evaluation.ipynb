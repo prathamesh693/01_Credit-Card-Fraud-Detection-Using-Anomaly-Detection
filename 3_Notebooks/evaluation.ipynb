# evaluation.ipynb

import pandas as pd
import joblib
from sklearn.preprocessing import StandardScaler
from sklearn.metrics import classification_report, confusion_matrix

# Load raw data
df = pd.read_csv("creditcard.csv")
y_true = df['Class']
X = df.drop(columns='Class')

# Scale original features
X_scaled = StandardScaler().fit_transform(X)

# Load models
iso_model = joblib.load("model_isolation_forest.pkl")
svm_model = joblib.load("model_oneclass_svm.pkl")

# Predictions
iso_preds = iso_model.predict(X_scaled)
svm_preds = svm_model.predict(X_scaled)

# Convert predictions to 0 (normal) and 1 (fraud)
iso_preds = [1 if x == -1 else 0 for x in iso_preds]
svm_preds = [1 if x == -1 else 0 for x in svm_preds]

# Evaluation
print("=== Isolation Forest ===")
print(confusion_matrix(y_true, iso_preds))
print(classification_report(y_true, iso_preds))

print("=== One-Class SVM ===")
print(confusion_matrix(y_true, svm_preds))
print(classification_report(y_true, svm_preds))
