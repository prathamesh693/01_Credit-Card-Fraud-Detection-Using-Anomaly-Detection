# eda.ipynb

import pandas as pd
import matplotlib.pyplot as plt
import seaborn as sns
from sklearn.decomposition import PCA
from sklearn.preprocessing import StandardScaler

# Load original data
df = pd.read_csv("creditcard.csv")

# Overview
df.head()
df.info()
df.describe()

# Class distribution
sns.countplot(x='Class', data=df)
plt.title("Class Distribution")
plt.show()

# Missing values check
sns.heatmap(df.isnull(), cbar=False, cmap='viridis')
plt.title("Missing Values Heatmap")
plt.show()

# Boxplot of Amount by Class
sns.boxplot(x='Class', y='Amount', data=df)
plt.title("Amount Distribution by Class")
plt.show()

# PCA visualization
X = df.drop(columns='Class')
y = df['Class']
X_scaled = StandardScaler().fit_transform(X)

pca = PCA(n_components=2)
pca_result = pca.fit_transform(X_scaled)

df['PCA1'], df['PCA2'] = pca_result[:, 0], pca_result[:, 1]

sns.scatterplot(x='PCA1', y='PCA2', hue='Class', data=df, alpha=0.5, palette='coolwarm')
plt.title("PCA Projection of Transactions")
plt.show()
